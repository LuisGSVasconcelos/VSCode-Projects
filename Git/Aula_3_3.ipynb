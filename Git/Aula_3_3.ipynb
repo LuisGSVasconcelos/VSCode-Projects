{
 "cells": [
  {
   "cell_type": "markdown",
   "metadata": {},
   "source": [
    "## Gerar dados"
   ]
  },
  {
   "cell_type": "code",
   "execution_count": null,
   "metadata": {},
   "outputs": [],
   "source": []
  },
  {
   "cell_type": "code",
   "execution_count": 6,
   "metadata": {},
   "outputs": [],
   "source": [
    "from random import randrange, uniform\n",
    "import numpy as np\n",
    "\n",
    "# uniform gives you a floating-point value\n",
    "x=[]\n",
    "y=[]\n",
    "for i in range(30):\n",
    "    aux = uniform(-5, 2)\n",
    "    x.append(aux)\n",
    "    \n",
    "    y.append(aux**2 + 1.0*uniform(-2.5,2.5))"
   ]
  },
  {
   "cell_type": "code",
   "execution_count": 18,
   "metadata": {},
   "outputs": [
    {
     "data": {
      "text/plain": [
       "(array([[-2.54783769],\n",
       "        [-4.65076653],\n",
       "        [-2.62516078],\n",
       "        [-0.04294542],\n",
       "        [-2.21089267],\n",
       "        [-3.39784264],\n",
       "        [-0.25131514],\n",
       "        [-1.89913867],\n",
       "        [ 0.10532888],\n",
       "        [ 0.78152479],\n",
       "        [-1.91114837],\n",
       "        [-1.59564491],\n",
       "        [-4.02499612],\n",
       "        [ 0.78381442],\n",
       "        [-3.11508756],\n",
       "        [-0.8906971 ],\n",
       "        [-3.59046304],\n",
       "        [-3.49158694],\n",
       "        [ 0.59020431],\n",
       "        [-1.300218  ],\n",
       "        [ 0.00532235],\n",
       "        [-0.9391182 ],\n",
       "        [-2.27634062],\n",
       "        [ 0.8108332 ],\n",
       "        [ 1.87351848],\n",
       "        [-1.65188389],\n",
       "        [ 1.10370015],\n",
       "        [-3.35913453],\n",
       "        [-2.1449316 ],\n",
       "        [ 1.48769289]]),\n",
       " [4.800328348454046,\n",
       "  19.32306952644063,\n",
       "  7.734652502951686,\n",
       "  1.5172058510397117,\n",
       "  3.5310186314845446,\n",
       "  9.656271570766,\n",
       "  -1.570327001891732,\n",
       "  1.2619677513457548,\n",
       "  1.912984414676989,\n",
       "  0.9413245747213359,\n",
       "  4.8694672029410855,\n",
       "  2.8627951174824355,\n",
       "  16.265676080205406,\n",
       "  3.0043672424702206,\n",
       "  10.595683433874202,\n",
       "  2.93624010097963,\n",
       "  12.981162576384484,\n",
       "  14.367645085439952,\n",
       "  -1.5614872929217163,\n",
       "  2.3839905677677153,\n",
       "  0.7641896785593676,\n",
       "  0.044936681967969516,\n",
       "  4.890630150924344,\n",
       "  1.9137766101528801,\n",
       "  4.001777683579894,\n",
       "  2.226587355221561,\n",
       "  1.7423988851883183,\n",
       "  11.636706242786389,\n",
       "  5.01225457516432,\n",
       "  2.472680376584608])"
      ]
     },
     "execution_count": 18,
     "metadata": {},
     "output_type": "execute_result"
    }
   ],
   "source": [
    "x, y"
   ]
  },
  {
   "cell_type": "code",
   "execution_count": 7,
   "metadata": {},
   "outputs": [
    {
     "name": "stdout",
     "output_type": "stream",
     "text": [
      "[-2.547837694217674, -4.650766529254733, -2.6251607800504857, -0.04294542446664895, -2.210892673695647, -3.3978426374795534, -0.25131514238059705, -1.8991386677088156, 0.10532887533685553, 0.7815247943709718, -1.9111483688795095, -1.595644910086801, -4.024996117574197, 0.7838144225941113, -3.115087559748333, -0.8906970957373472, -3.5904630383442764, -3.491586941690069, 0.5902043095311349, -1.3002179972016297, 0.005322348146516553, -0.9391182004691725, -2.276340618164381, 0.8108331988288064, 1.873518484405194, -1.6518838868039634, 1.1037001541254527, -3.3591345337484473, -2.14493160367602, 1.4876928869841377] [4.800328348454046, 19.32306952644063, 7.734652502951686, 1.5172058510397117, 3.5310186314845446, 9.656271570766, -1.570327001891732, 1.2619677513457548, 1.912984414676989, 0.9413245747213359, 4.8694672029410855, 2.8627951174824355, 16.265676080205406, 3.0043672424702206, 10.595683433874202, 2.93624010097963, 12.981162576384484, 14.367645085439952, -1.5614872929217163, 2.3839905677677153, 0.7641896785593676, 0.044936681967969516, 4.890630150924344, 1.9137766101528801, 4.001777683579894, 2.226587355221561, 1.7423988851883183, 11.636706242786389, 5.01225457516432, 2.472680376584608]\n"
     ]
    }
   ],
   "source": [
    "print(x,y)"
   ]
  },
  {
   "cell_type": "code",
   "execution_count": 8,
   "metadata": {},
   "outputs": [
    {
     "data": {
      "text/plain": [
       "Text(0.5, 0, 'y')"
      ]
     },
     "execution_count": 8,
     "metadata": {},
     "output_type": "execute_result"
    },
    {
     "data": {
      "image/png": "[encoded data removed]",
      "text/plain": [
       "<Figure size 640x480 with 1 Axes>"
      ]
     },
     "metadata": {},
     "output_type": "display_data"
    }
   ],
   "source": [
    "import matplotlib.pyplot as plt\n",
    "plt.plot(x,y,'b.')\n",
    "plt.xlabel('x')\n",
    "plt.xlabel('y')"
   ]
  },
  {
   "cell_type": "markdown",
   "metadata": {},
   "source": [
    "## generate quadratic features"
   ]
  },
  {
   "cell_type": "code",
   "execution_count": 9,
   "metadata": {},
   "outputs": [],
   "source": [
    "from sklearn.preprocessing import PolynomialFeatures\n",
    "poly = PolynomialFeatures(degree=2, include_bias=False)\n",
    "x = np.array(x)\n",
    "x= x.reshape(-1, 1) \n",
    "X_poly = poly.fit_transform(x) # X_poly: 1st column is x, 2nd column is x^2"
   ]
  },
  {
   "cell_type": "code",
   "execution_count": 10,
   "metadata": {},
   "outputs": [
    {
     "name": "stdout",
     "output_type": "stream",
     "text": [
      "X_poly=  [[-2.54783769e+00  6.49147692e+00]\n",
      " [-4.65076653e+00  2.16296293e+01]\n",
      " [-2.62516078e+00  6.89146912e+00]\n",
      " [-4.29454245e-02  1.84430948e-03]\n",
      " [-2.21089267e+00  4.88804641e+00]\n",
      " [-3.39784264e+00  1.15453346e+01]\n",
      " [-2.51315142e-01  6.31593008e-02]\n",
      " [-1.89913867e+00  3.60672768e+00]\n",
      " [ 1.05328875e-01  1.10941720e-02]\n",
      " [ 7.81524794e-01  6.10781004e-01]\n",
      " [-1.91114837e+00  3.65248809e+00]\n",
      " [-1.59564491e+00  2.54608268e+00]\n",
      " [-4.02499612e+00  1.62005937e+01]\n",
      " [ 7.83814423e-01  6.14365049e-01]\n",
      " [-3.11508756e+00  9.70377050e+00]\n",
      " [-8.90697096e-01  7.93341316e-01]\n",
      " [-3.59046304e+00  1.28914248e+01]\n",
      " [-3.49158694e+00  1.21911794e+01]\n",
      " [ 5.90204310e-01  3.48341127e-01]\n",
      " [-1.30021800e+00  1.69056684e+00]\n",
      " [ 5.32234815e-03  2.83273898e-05]\n",
      " [-9.39118200e-01  8.81942994e-01]\n",
      " [-2.27634062e+00  5.18172661e+00]\n",
      " [ 8.10833199e-01  6.57450476e-01]\n",
      " [ 1.87351848e+00  3.51007151e+00]\n",
      " [-1.65188389e+00  2.72872038e+00]\n",
      " [ 1.10370015e+00  1.21815403e+00]\n",
      " [-3.35913453e+00  1.12837848e+01]\n",
      " [-2.14493160e+00  4.60073158e+00]\n",
      " [ 1.48769289e+00  2.21323013e+00]]\n"
     ]
    }
   ],
   "source": [
    "print(\"X_poly= \",X_poly)"
   ]
  },
  {
   "cell_type": "markdown",
   "metadata": {},
   "source": [
    "## scale model inputs"
   ]
  },
  {
   "cell_type": "code",
   "execution_count": 11,
   "metadata": {},
   "outputs": [],
   "source": [
    "from sklearn.preprocessing import StandardScaler\n",
    "\n",
    "scaler = StandardScaler()\n",
    "X_scaled = scaler.fit_transform(X_poly)"
   ]
  },
  {
   "cell_type": "code",
   "execution_count": 12,
   "metadata": {},
   "outputs": [
    {
     "name": "stdout",
     "output_type": "stream",
     "text": [
      "X_scaled=  [[-0.67793434  0.28219402]\n",
      " [-1.86399993  3.06236578]\n",
      " [-0.72154506  0.35565391]\n",
      " [ 0.73484125 -0.90964847]\n",
      " [-0.48789515 -0.01228129]\n",
      " [-1.15734267  1.2103517 ]\n",
      " [ 0.61731937 -0.89838777]\n",
      " [-0.31206385 -0.24759972]\n",
      " [ 0.81846892 -0.9079497 ]\n",
      " [ 1.19984783 -0.79781523]\n",
      " [-0.3188374  -0.23919567]\n",
      " [-0.14089139 -0.44239068]\n",
      " [-1.51106133  2.06530544]\n",
      " [ 1.2011392  -0.79715701]\n",
      " [-0.99786697  0.87214236]\n",
      " [ 0.25670377 -0.76428743]\n",
      " [-1.26598184  1.45756562]\n",
      " [-1.21021507  1.32896323]\n",
      " [ 1.09194183 -0.84601318]\n",
      " [ 0.02573131 -0.59950899]\n",
      " [ 0.76206459 -0.90998198]\n",
      " [ 0.22939396 -0.74801544]\n",
      " [-0.52480822  0.04165405]\n",
      " [ 1.21637797 -0.78924423]\n",
      " [ 1.8157394  -0.26535094]\n",
      " [-0.17261054 -0.40884866]\n",
      " [ 1.38155684 -0.68626917]\n",
      " [-1.13551105  1.16231722]\n",
      " [-0.45069267 -0.06504761]\n",
      " [ 1.59813125 -0.50352015]]\n"
     ]
    }
   ],
   "source": [
    "print(\"X_scaled= \",X_scaled)"
   ]
  },
  {
   "cell_type": "markdown",
   "metadata": {},
   "source": [
    "## fit linear model & predict"
   ]
  },
  {
   "cell_type": "code",
   "execution_count": 13,
   "metadata": {},
   "outputs": [
    {
     "name": "stdout",
     "output_type": "stream",
     "text": [
      "y_predicted=  [ 6.40879923 20.83316317  6.78686501  0.45111366  4.89706674 11.20351083\n",
      "  0.48137413  3.69501369  0.48100345  1.15944406  3.73781981  2.70638516\n",
      " 15.64201995  1.16325193  9.45257487  1.10131854 12.48533774 11.8183356\n",
      "  0.87727995  1.91609248  0.45614971  1.18065343  5.17342557  1.20895678\n",
      "  4.13267054  2.87606128  1.79546988 10.9546282   4.62697006  2.81721907]\n"
     ]
    }
   ],
   "source": [
    "from sklearn.linear_model import LinearRegression\n",
    "model = LinearRegression()\n",
    "model.fit(X_poly, y)\n",
    "y_predicted = model.predict(X_poly)\n",
    "print('y_predicted= ',y_predicted)"
   ]
  },
  {
   "cell_type": "code",
   "execution_count": 14,
   "metadata": {},
   "outputs": [
    {
     "data": {
      "text/plain": [
       "Text(0.5, 0, 'y')"
      ]
     },
     "execution_count": 14,
     "metadata": {},
     "output_type": "execute_result"
    },
    {
     "data": {
      "image/png": "[encoded data removed]",
      "text/plain": [
       "<Figure size 640x480 with 1 Axes>"
      ]
     },
     "metadata": {},
     "output_type": "display_data"
    }
   ],
   "source": [
    "import matplotlib.pyplot as plt\n",
    "plt.plot(x,y,'b.')\n",
    "plt.plot(x,y_predicted,'r.')\n",
    "plt.xlabel('x')\n",
    "plt.xlabel('y')"
   ]
  },
  {
   "cell_type": "code",
   "execution_count": 15,
   "metadata": {},
   "outputs": [],
   "source": [
    "import pandas as pd"
   ]
  },
  {
   "cell_type": "code",
   "execution_count": 16,
   "metadata": {},
   "outputs": [],
   "source": [
    "df = pd.DataFrame()\n",
    "\n",
    "df = pd.DataFrame({'x': x[:,0], 'y': y})\n",
    "\n",
    "df.to_csv('quadratic_raw_data.csv', index=False)"
   ]
  }
 ],
 "metadata": {
  "kernelspec": {
   "display_name": "Python 3",
   "language": "python",
   "name": "python3"
  },
  "language_info": {
   "codemirror_mode": {
    "name": "ipython",
    "version": 3
   },
   "file_extension": ".py",
   "mimetype": "text/x-python",
   "name": "python",
   "nbconvert_exporter": "python",
   "pygments_lexer": "ipython3",
   "version": "3.12.3"
  }
 },
 "nbformat": 4,
 "nbformat_minor": 2
}
